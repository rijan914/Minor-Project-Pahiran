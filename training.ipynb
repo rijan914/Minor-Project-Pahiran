{
 "cells": [
  {
   "cell_type": "code",
   "execution_count": 8,
   "metadata": {},
   "outputs": [],
   "source": [
    "%run \"training_module.ipynb\""
   ]
  },
  {
   "cell_type": "code",
   "execution_count": 9,
   "metadata": {},
   "outputs": [],
   "source": [
    "\n",
    "\n",
    "import tensorflow as tf\n",
    "from tensorflow import keras\n",
    "from tensorflow.keras.preprocessing import image\n",
    "from tensorflow.keras.preprocessing.image import ImageDataGenerator\n",
    "\n",
    "import tensorflow as tf\n",
    "from tensorflow.keras import layers\n",
    "from tensorflow.keras import losses\n",
    "from tensorflow import keras\n",
    "\n",
    "from tensorflow.keras.preprocessing import image\n",
    "\n",
    "from tensorflow.keras.layers.experimental.preprocessing import TextVectorization\n",
    "from tensorflow.keras.layers.experimental.preprocessing import StringLookup\n",
    "\n",
    "from sklearn.model_selection import train_test_split\n",
    "from sklearn.preprocessing import LabelEncoder\n",
    "\n",
    "import numpy as np\n",
    "import matplotlib.pyplot as plt\n",
    "import pandas as pd"
   ]
  },
  {
   "cell_type": "code",
   "execution_count": 10,
   "metadata": {},
   "outputs": [],
   "source": [
    "import cv2\n",
    "\n",
    "import matplotlib.image as mpimg"
   ]
  },
  {
   "cell_type": "code",
   "execution_count": 11,
   "metadata": {},
   "outputs": [
    {
     "data": {
      "text/plain": [
       "array(['Topwear', 'Bottomwear', 'Footwear'], dtype=object)"
      ]
     },
     "execution_count": 11,
     "metadata": {},
     "output_type": "execute_result"
    }
   ],
   "source": [
    "\n",
    "styles = get_df()\n",
    "\n",
    "styles[\"subCategory\"].unique() # we can check by this code that we only have three subcategory now.\n"
   ]
  },
  {
   "cell_type": "code",
   "execution_count": null,
   "metadata": {},
   "outputs": [],
   "source": []
  },
  {
   "cell_type": "code",
   "execution_count": 12,
   "metadata": {},
   "outputs": [
    {
     "data": {
      "text/plain": [
       "array(['Bottomwear', 'Footwear', 'Topwear'], dtype=object)"
      ]
     },
     "execution_count": 12,
     "metadata": {},
     "output_type": "execute_result"
    }
   ],
   "source": [
    "\n",
    "le = LabelEncoder()\n",
    "#\n",
    "styles[\"subCategory\"] = le.fit_transform(styles[\"subCategory\"])\n",
    "\n",
    "styles.head()\n",
    "\n",
    "le.classes_\n",
    "\n"
   ]
  },
  {
   "cell_type": "code",
   "execution_count": 13,
   "metadata": {},
   "outputs": [
    {
     "name": "stdout",
     "output_type": "stream",
     "text": [
      "Error reading image 'D:\\Project\\PAHIRAN\\DATASET\\images\\28492.jpg': Invalid shape\n",
      "Error reading image 'D:\\Project\\PAHIRAN\\DATASET\\images\\14776.jpg': Invalid shape\n",
      "Error reading image 'D:\\Project\\PAHIRAN\\DATASET\\images\\5408.jpg': Invalid shape\n",
      "Error reading image 'D:\\Project\\PAHIRAN\\DATASET\\images\\1799.jpg': Invalid shape\n",
      "Error reading image 'D:\\Project\\PAHIRAN\\DATASET\\images\\2311.jpg': Invalid shape\n",
      "Downloading data from https://storage.googleapis.com/tensorflow/keras-applications/resnet/resnet101_weights_tf_dim_ordering_tf_kernels_notop.h5\n",
      "171446536/171446536 [==============================] - 18s 0us/step\n",
      "Model: \"model_1\"\n",
      "_________________________________________________________________\n",
      " Layer (type)                Output Shape              Param #   \n",
      "=================================================================\n",
      " images (InputLayer)         [(None, 80, 60, 3)]       0         \n",
      "                                                                 \n",
      " resnet101 (Functional)      (None, 3, 2, 2048)        42658176  \n",
      "                                                                 \n",
      " conv2d_1 (Conv2D)           (None, 2, 1, 32)          262176    \n",
      "                                                                 \n",
      " flatten_1 (Flatten)         (None, 64)                0         \n",
      "                                                                 \n",
      " dense_6 (Dense)             (None, 1024)              66560     \n",
      "                                                                 \n",
      " dense_7 (Dense)             (None, 512)               524800    \n",
      "                                                                 \n",
      " dense_8 (Dense)             (None, 256)               131328    \n",
      "                                                                 \n",
      " dense_9 (Dense)             (None, 128)               32896     \n",
      "                                                                 \n",
      " dense_10 (Dense)            (None, 64)                8256      \n",
      "                                                                 \n",
      " dense_11 (Dense)            (None, 3)                 195       \n",
      "                                                                 \n",
      " subCategory (Activation)    (None, 3)                 0         \n",
      "                                                                 \n",
      "=================================================================\n",
      "Total params: 43,684,387\n",
      "Trainable params: 1,026,211\n",
      "Non-trainable params: 42,658,176\n",
      "_________________________________________________________________\n"
     ]
    }
   ],
   "source": [
    "\n",
    "# styles, articleTypeLB, genderLB, baseColourLB, seasonLB, usageLB = my_le(styles)\n",
    "\n",
    "sub_train,sub_val,sub_test=make_input_xx(make_input_array_subcate(styles))\n",
    "sub_model = building_model(80,60)\n",
    "sub_model.summary()\n",
    "\n"
   ]
  },
  {
   "cell_type": "code",
   "execution_count": 14,
   "metadata": {},
   "outputs": [
    {
     "name": "stdout",
     "output_type": "stream",
     "text": [
      "Epoch 1/5\n"
     ]
    },
    {
     "name": "stderr",
     "output_type": "stream",
     "text": [
      "d:\\users\\anaconda3\\envs\\tensorflow\\lib\\site-packages\\keras\\backend.py:5582: UserWarning: \"`sparse_categorical_crossentropy` received `from_logits=True`, but the `output` argument was produced by a Softmax activation and thus does not represent logits. Was this intended?\n",
      "  output, from_logits = _get_logits(\n"
     ]
    },
    {
     "name": "stdout",
     "output_type": "stream",
     "text": [
      "1600/1600 [==============================] - 387s 237ms/step - loss: 0.2482 - accuracy: 0.9541 - val_loss: 0.1491 - val_accuracy: 0.9674\n",
      "Epoch 2/5\n",
      "1600/1600 [==============================] - 445s 278ms/step - loss: 0.0829 - accuracy: 0.9781 - val_loss: 0.0637 - val_accuracy: 0.9906\n",
      "Epoch 3/5\n",
      "1600/1600 [==============================] - 460s 288ms/step - loss: 0.1414 - accuracy: 0.9794 - val_loss: 0.0865 - val_accuracy: 0.9820\n",
      "Epoch 4/5\n",
      "1600/1600 [==============================] - 466s 291ms/step - loss: 0.0775 - accuracy: 0.9831 - val_loss: 0.0585 - val_accuracy: 0.9884\n",
      "Epoch 5/5\n",
      "1600/1600 [==============================] - 460s 288ms/step - loss: 0.0754 - accuracy: 0.9859 - val_loss: 0.0577 - val_accuracy: 0.9903\n"
     ]
    },
    {
     "name": "stderr",
     "output_type": "stream",
     "text": [
      "WARNING:absl:Found untraced functions such as _jit_compiled_convolution_op, _jit_compiled_convolution_op, _jit_compiled_convolution_op, _jit_compiled_convolution_op, _jit_compiled_convolution_op while saving (showing 5 of 105). These functions will not be directly callable after loading.\n"
     ]
    },
    {
     "name": "stdout",
     "output_type": "stream",
     "text": [
      "INFO:tensorflow:Assets written to: D:\\Project\\PAHIRAN\\Pahiran-wardobe-management-system\\model\\model_sub\\assets\n"
     ]
    },
    {
     "name": "stderr",
     "output_type": "stream",
     "text": [
      "INFO:tensorflow:Assets written to: D:\\Project\\PAHIRAN\\Pahiran-wardobe-management-system\\model\\model_sub\\assets\n",
      "d:\\users\\anaconda3\\envs\\tensorflow\\lib\\site-packages\\keras\\backend.py:5582: UserWarning: \"`sparse_categorical_crossentropy` received `from_logits=True`, but the `output` argument was produced by a Softmax activation and thus does not represent logits. Was this intended?\n",
      "  output, from_logits = _get_logits(\n"
     ]
    },
    {
     "name": "stdout",
     "output_type": "stream",
     "text": [
      "2726/2726 [==============================] - 309s 113ms/step - loss: 0.0461 - accuracy: 0.9901\n"
     ]
    },
    {
     "data": {
      "text/plain": [
       "[0.046112269163131714, 0.9900953769683838]"
      ]
     },
     "execution_count": 14,
     "metadata": {},
     "output_type": "execute_result"
    }
   ],
   "source": [
    "\n",
    "from tensorflow.keras.utils import plot_model\n",
    "plot_model(sub_model)\n",
    "\n",
    "sub_model.compile(optimizer='adam',\n",
    "              loss=tf.keras.losses.SparseCategoricalCrossentropy(from_logits=True),\n",
    "              metrics=['accuracy'])\n",
    "\n",
    "sub_history = sub_model.fit(sub_train, \n",
    "                    epochs=5, \n",
    "                    steps_per_epoch = 1600,\n",
    "                    validation_data = sub_val)\n",
    "\n",
    "sub_model.save(\"D:\\Project\\PAHIRAN\\Pahiran-wardobe-management-system\\model\\model_sub\")\n",
    "\n",
    "test_model = tf.keras.models.load_model(\"D:\\Project\\PAHIRAN\\Pahiran-wardobe-management-system\\model\\model_sub\")\n",
    "\n",
    "test_model.evaluate(sub_test)"
   ]
  },
  {
   "cell_type": "code",
   "execution_count": 15,
   "metadata": {},
   "outputs": [],
   "source": [
    "\n",
    "top_df = get_234_df(\"Topwear\")\n",
    "bottom_df = get_234_df(\"Bottomwear\")\n",
    "foot_df = get_234_df(\"Footwear\")\n",
    "top_df,top_art,top_gen,top_base,top_sea,top_usage = my_le(top_df)\n",
    "bottom_df,bottom_art,bottom_gen,bottom_base,bottom_sea,bottom_usage = my_le(bottom_df)\n",
    "foot_df,foot_art,foot_gen,foot_base,foot_sea,foot_usage = my_le(foot_df)\n",
    "foot_usage.classes_\n",
    "\n",
    "top_base_model = build_model(80,60,top_art,top_gen,top_base,top_sea,top_usage)\n",
    "bottom_base_model = build_model(80,60,bottom_art,bottom_gen,bottom_base,bottom_sea,bottom_usage)\n",
    "foot_base_model = build_model(80,60,foot_art,foot_gen,foot_base,foot_sea,foot_usage)\n"
   ]
  },
  {
   "cell_type": "code",
   "execution_count": 16,
   "metadata": {},
   "outputs": [],
   "source": [
    "top_train, top_val, top_test = make_input_xx(make_input_array_2(top_df))\n"
   ]
  },
  {
   "cell_type": "code",
   "execution_count": 17,
   "metadata": {},
   "outputs": [],
   "source": [
    "bottom_train, bottom_val, bottom_test = make_input_xx(make_input_array_2(bottom_df))\n"
   ]
  },
  {
   "cell_type": "code",
   "execution_count": 18,
   "metadata": {},
   "outputs": [],
   "source": [
    "foot_train, foot_val, foot_test = make_input_xx(make_input_array_2(foot_df))\n"
   ]
  },
  {
   "cell_type": "code",
   "execution_count": null,
   "metadata": {},
   "outputs": [],
   "source": []
  },
  {
   "cell_type": "code",
   "execution_count": 19,
   "metadata": {},
   "outputs": [
    {
     "name": "stdout",
     "output_type": "stream",
     "text": [
      "Epoch 1/9\n"
     ]
    },
    {
     "name": "stderr",
     "output_type": "stream",
     "text": [
      "d:\\users\\anaconda3\\envs\\tensorflow\\lib\\site-packages\\keras\\backend.py:5582: UserWarning: \"`sparse_categorical_crossentropy` received `from_logits=True`, but the `output` argument was produced by a Softmax activation and thus does not represent logits. Was this intended?\n",
      "  output, from_logits = _get_logits(\n"
     ]
    },
    {
     "name": "stdout",
     "output_type": "stream",
     "text": [
      "500/500 [==============================] - 344s 658ms/step - loss: 6.6508 - articleType_loss: 1.5696 - gender_loss: 0.7694 - baseColour_loss: 2.4860 - season_loss: 0.9272 - usage_loss: 0.8987 - articleType_accuracy: 0.5610 - gender_accuracy: 0.7640 - baseColour_accuracy: 0.2620 - season_accuracy: 0.5710 - usage_accuracy: 0.7650 - val_loss: 5.7521 - val_articleType_loss: 1.1763 - val_gender_loss: 0.6049 - val_baseColour_loss: 2.2368 - val_season_loss: 0.8855 - val_usage_loss: 0.8487 - val_articleType_accuracy: 0.6391 - val_gender_accuracy: 0.8004 - val_baseColour_accuracy: 0.3153 - val_season_accuracy: 0.5575 - val_usage_accuracy: 0.7227\n",
      "Epoch 2/9\n",
      "500/500 [==============================] - 291s 582ms/step - loss: 5.1194 - articleType_loss: 1.1004 - gender_loss: 0.4406 - baseColour_loss: 2.1178 - season_loss: 0.8577 - usage_loss: 0.6029 - articleType_accuracy: 0.6790 - gender_accuracy: 0.8500 - baseColour_accuracy: 0.3500 - season_accuracy: 0.5670 - usage_accuracy: 0.8070 - val_loss: 4.6329 - val_articleType_loss: 0.9569 - val_gender_loss: 0.3493 - val_baseColour_loss: 1.9459 - val_season_loss: 0.8764 - val_usage_loss: 0.5044 - val_articleType_accuracy: 0.7175 - val_gender_accuracy: 0.8586 - val_baseColour_accuracy: 0.3511 - val_season_accuracy: 0.5748 - val_usage_accuracy: 0.8456\n",
      "Epoch 3/9\n",
      "500/500 [==============================] - 271s 542ms/step - loss: 4.9766 - articleType_loss: 1.1221 - gender_loss: 0.3850 - baseColour_loss: 1.9522 - season_loss: 0.8390 - usage_loss: 0.6783 - articleType_accuracy: 0.6720 - gender_accuracy: 0.8670 - baseColour_accuracy: 0.3920 - season_accuracy: 0.5550 - usage_accuracy: 0.7820 - val_loss: 4.4976 - val_articleType_loss: 0.9853 - val_gender_loss: 0.3360 - val_baseColour_loss: 1.8188 - val_season_loss: 0.8054 - val_usage_loss: 0.5521 - val_articleType_accuracy: 0.7055 - val_gender_accuracy: 0.8677 - val_baseColour_accuracy: 0.4184 - val_season_accuracy: 0.5796 - val_usage_accuracy: 0.8248\n",
      "Epoch 4/9\n",
      "500/500 [==============================] - 275s 550ms/step - loss: 4.4255 - articleType_loss: 0.9271 - gender_loss: 0.3412 - baseColour_loss: 1.8414 - season_loss: 0.7948 - usage_loss: 0.5211 - articleType_accuracy: 0.7440 - gender_accuracy: 0.8680 - baseColour_accuracy: 0.4270 - season_accuracy: 0.5830 - usage_accuracy: 0.8340 - val_loss: 4.3864 - val_articleType_loss: 0.9529 - val_gender_loss: 0.3283 - val_baseColour_loss: 1.7570 - val_season_loss: 0.8758 - val_usage_loss: 0.4723 - val_articleType_accuracy: 0.6873 - val_gender_accuracy: 0.8804 - val_baseColour_accuracy: 0.4717 - val_season_accuracy: 0.5927 - val_usage_accuracy: 0.8446\n",
      "Epoch 5/9\n",
      "500/500 [==============================] - 267s 534ms/step - loss: 4.3928 - articleType_loss: 0.9316 - gender_loss: 0.3833 - baseColour_loss: 1.7843 - season_loss: 0.7823 - usage_loss: 0.5113 - articleType_accuracy: 0.7330 - gender_accuracy: 0.8830 - baseColour_accuracy: 0.4500 - season_accuracy: 0.5890 - usage_accuracy: 0.8300 - val_loss: 4.3266 - val_articleType_loss: 0.8941 - val_gender_loss: 0.3658 - val_baseColour_loss: 1.7906 - val_season_loss: 0.7901 - val_usage_loss: 0.4860 - val_articleType_accuracy: 0.7243 - val_gender_accuracy: 0.8930 - val_baseColour_accuracy: 0.4561 - val_season_accuracy: 0.6024 - val_usage_accuracy: 0.8479\n",
      "Epoch 6/9\n",
      "500/500 [==============================] - 265s 530ms/step - loss: 4.2879 - articleType_loss: 0.9569 - gender_loss: 0.2970 - baseColour_loss: 1.7363 - season_loss: 0.7584 - usage_loss: 0.5393 - articleType_accuracy: 0.7290 - gender_accuracy: 0.8900 - baseColour_accuracy: 0.4940 - season_accuracy: 0.6080 - usage_accuracy: 0.8350 - val_loss: 4.0013 - val_articleType_loss: 0.8342 - val_gender_loss: 0.3180 - val_baseColour_loss: 1.6190 - val_season_loss: 0.7596 - val_usage_loss: 0.4705 - val_articleType_accuracy: 0.7497 - val_gender_accuracy: 0.8950 - val_baseColour_accuracy: 0.5046 - val_season_accuracy: 0.5966 - val_usage_accuracy: 0.8423\n",
      "Epoch 7/9\n",
      "500/500 [==============================] - 269s 539ms/step - loss: 4.0158 - articleType_loss: 0.8476 - gender_loss: 0.2591 - baseColour_loss: 1.6276 - season_loss: 0.8065 - usage_loss: 0.4749 - articleType_accuracy: 0.7360 - gender_accuracy: 0.9140 - baseColour_accuracy: 0.5030 - season_accuracy: 0.5970 - usage_accuracy: 0.8420 - val_loss: 4.0919 - val_articleType_loss: 0.9056 - val_gender_loss: 0.3967 - val_baseColour_loss: 1.5349 - val_season_loss: 0.8255 - val_usage_loss: 0.4293 - val_articleType_accuracy: 0.7149 - val_gender_accuracy: 0.8787 - val_baseColour_accuracy: 0.5260 - val_season_accuracy: 0.5878 - val_usage_accuracy: 0.8336\n",
      "Epoch 8/9\n",
      "500/500 [==============================] - 268s 537ms/step - loss: 4.2539 - articleType_loss: 0.9391 - gender_loss: 0.3257 - baseColour_loss: 1.7185 - season_loss: 0.8222 - usage_loss: 0.4484 - articleType_accuracy: 0.7170 - gender_accuracy: 0.8910 - baseColour_accuracy: 0.4690 - season_accuracy: 0.5810 - usage_accuracy: 0.8610 - val_loss: 3.7600 - val_articleType_loss: 0.8142 - val_gender_loss: 0.2291 - val_baseColour_loss: 1.4855 - val_season_loss: 0.7821 - val_usage_loss: 0.4491 - val_articleType_accuracy: 0.7493 - val_gender_accuracy: 0.9207 - val_baseColour_accuracy: 0.5202 - val_season_accuracy: 0.5881 - val_usage_accuracy: 0.8612\n",
      "Epoch 9/9\n",
      "500/500 [==============================] - 260s 521ms/step - loss: 3.9810 - articleType_loss: 0.9396 - gender_loss: 0.3022 - baseColour_loss: 1.4936 - season_loss: 0.7758 - usage_loss: 0.4698 - articleType_accuracy: 0.7430 - gender_accuracy: 0.9020 - baseColour_accuracy: 0.5330 - season_accuracy: 0.6350 - usage_accuracy: 0.8420 - val_loss: 4.1326 - val_articleType_loss: 1.0402 - val_gender_loss: 0.2951 - val_baseColour_loss: 1.5500 - val_season_loss: 0.7482 - val_usage_loss: 0.4991 - val_articleType_accuracy: 0.7025 - val_gender_accuracy: 0.8878 - val_baseColour_accuracy: 0.5215 - val_season_accuracy: 0.6274 - val_usage_accuracy: 0.8654\n",
      "1539/1539 [==============================] - 195s 126ms/step - loss: 4.0352 - articleType_loss: 0.9974 - gender_loss: 0.3060 - baseColour_loss: 1.5003 - season_loss: 0.7463 - usage_loss: 0.4851 - articleType_accuracy: 0.7092 - gender_accuracy: 0.8843 - baseColour_accuracy: 0.5260 - season_accuracy: 0.6313 - usage_accuracy: 0.8723\n"
     ]
    },
    {
     "name": "stderr",
     "output_type": "stream",
     "text": [
      "WARNING:absl:Found untraced functions such as _jit_compiled_convolution_op, _jit_compiled_convolution_op, _jit_compiled_convolution_op, _jit_compiled_convolution_op, _jit_compiled_convolution_op while saving (showing 5 of 104). These functions will not be directly callable after loading.\n"
     ]
    },
    {
     "name": "stdout",
     "output_type": "stream",
     "text": [
      "INFO:tensorflow:Assets written to: D:\\Project\\PAHIRAN\\Pahiran-wardobe-management-system\\model\\model_top\\assets\n"
     ]
    },
    {
     "name": "stderr",
     "output_type": "stream",
     "text": [
      "INFO:tensorflow:Assets written to: D:\\Project\\PAHIRAN\\Pahiran-wardobe-management-system\\model\\model_top\\assets\n"
     ]
    },
    {
     "name": "stdout",
     "output_type": "stream",
     "text": [
      "Epoch 1/8\n"
     ]
    },
    {
     "name": "stderr",
     "output_type": "stream",
     "text": [
      "d:\\users\\anaconda3\\envs\\tensorflow\\lib\\site-packages\\keras\\backend.py:5582: UserWarning: \"`sparse_categorical_crossentropy` received `from_logits=True`, but the `output` argument was produced by a Softmax activation and thus does not represent logits. Was this intended?\n",
      "  output, from_logits = _get_logits(\n"
     ]
    },
    {
     "name": "stdout",
     "output_type": "stream",
     "text": [
      "100/100 [==============================] - 63s 521ms/step - loss: 10.6334 - articleType_loss: 3.1413 - gender_loss: 1.3497 - baseColour_loss: 3.2476 - season_loss: 1.4268 - usage_loss: 1.4681 - articleType_accuracy: 0.2800 - gender_accuracy: 0.5550 - baseColour_accuracy: 0.1900 - season_accuracy: 0.5000 - usage_accuracy: 0.6200 - val_loss: 6.9956 - val_articleType_loss: 1.7422 - val_gender_loss: 0.9626 - val_baseColour_loss: 1.9928 - val_season_loss: 1.1284 - val_usage_loss: 1.1696 - val_articleType_accuracy: 0.4041 - val_gender_accuracy: 0.6350 - val_baseColour_accuracy: 0.3389 - val_season_accuracy: 0.4264 - val_usage_accuracy: 0.6425\n",
      "Epoch 2/8\n",
      "100/100 [==============================] - 48s 487ms/step - loss: 6.6702 - articleType_loss: 1.7806 - gender_loss: 0.8320 - baseColour_loss: 2.1354 - season_loss: 0.9054 - usage_loss: 1.0168 - articleType_accuracy: 0.4350 - gender_accuracy: 0.6450 - baseColour_accuracy: 0.2850 - season_accuracy: 0.5400 - usage_accuracy: 0.6450 - val_loss: 6.2077 - val_articleType_loss: 1.8418 - val_gender_loss: 0.7205 - val_baseColour_loss: 1.8956 - val_season_loss: 0.9417 - val_usage_loss: 0.8080 - val_articleType_accuracy: 0.4618 - val_gender_accuracy: 0.7020 - val_baseColour_accuracy: 0.3333 - val_season_accuracy: 0.5885 - val_usage_accuracy: 0.7579\n",
      "Epoch 3/8\n",
      "100/100 [==============================] - 51s 509ms/step - loss: 6.2940 - articleType_loss: 1.6243 - gender_loss: 0.6817 - baseColour_loss: 2.0283 - season_loss: 1.0402 - usage_loss: 0.9195 - articleType_accuracy: 0.5350 - gender_accuracy: 0.7600 - baseColour_accuracy: 0.3000 - season_accuracy: 0.5000 - usage_accuracy: 0.6950 - val_loss: 6.1458 - val_articleType_loss: 1.8201 - val_gender_loss: 0.8643 - val_baseColour_loss: 1.8008 - val_season_loss: 0.8894 - val_usage_loss: 0.7711 - val_articleType_accuracy: 0.4153 - val_gender_accuracy: 0.6313 - val_baseColour_accuracy: 0.4171 - val_season_accuracy: 0.5791 - val_usage_accuracy: 0.7337\n",
      "Epoch 4/8\n",
      "100/100 [==============================] - 51s 516ms/step - loss: 5.9944 - articleType_loss: 1.7060 - gender_loss: 0.6827 - baseColour_loss: 1.8171 - season_loss: 1.0716 - usage_loss: 0.7170 - articleType_accuracy: 0.5100 - gender_accuracy: 0.7700 - baseColour_accuracy: 0.4000 - season_accuracy: 0.5300 - usage_accuracy: 0.7300 - val_loss: 5.3722 - val_articleType_loss: 1.3283 - val_gender_loss: 0.6201 - val_baseColour_loss: 1.8754 - val_season_loss: 0.9256 - val_usage_loss: 0.6227 - val_articleType_accuracy: 0.5903 - val_gender_accuracy: 0.7635 - val_baseColour_accuracy: 0.3296 - val_season_accuracy: 0.6089 - val_usage_accuracy: 0.7728\n",
      "Epoch 5/8\n",
      "100/100 [==============================] - 52s 520ms/step - loss: 6.3763 - articleType_loss: 1.7362 - gender_loss: 0.7091 - baseColour_loss: 1.9330 - season_loss: 1.0678 - usage_loss: 0.9302 - articleType_accuracy: 0.4850 - gender_accuracy: 0.7450 - baseColour_accuracy: 0.4100 - season_accuracy: 0.5600 - usage_accuracy: 0.7050 - val_loss: 5.7781 - val_articleType_loss: 1.5275 - val_gender_loss: 0.6864 - val_baseColour_loss: 1.8036 - val_season_loss: 0.9675 - val_usage_loss: 0.7931 - val_articleType_accuracy: 0.5456 - val_gender_accuracy: 0.7281 - val_baseColour_accuracy: 0.4432 - val_season_accuracy: 0.6220 - val_usage_accuracy: 0.7132\n",
      "Epoch 6/8\n",
      "100/100 [==============================] - 50s 507ms/step - loss: 5.7834 - articleType_loss: 1.6665 - gender_loss: 0.7627 - baseColour_loss: 1.7638 - season_loss: 0.8963 - usage_loss: 0.6942 - articleType_accuracy: 0.5200 - gender_accuracy: 0.7250 - baseColour_accuracy: 0.4250 - season_accuracy: 0.6350 - usage_accuracy: 0.7350 - val_loss: 5.7993 - val_articleType_loss: 1.4072 - val_gender_loss: 0.8976 - val_baseColour_loss: 1.7778 - val_season_loss: 0.9377 - val_usage_loss: 0.7789 - val_articleType_accuracy: 0.5885 - val_gender_accuracy: 0.7095 - val_baseColour_accuracy: 0.3892 - val_season_accuracy: 0.5959 - val_usage_accuracy: 0.7095\n",
      "Epoch 7/8\n",
      "100/100 [==============================] - 49s 497ms/step - loss: 5.7381 - articleType_loss: 1.6130 - gender_loss: 0.7338 - baseColour_loss: 1.7593 - season_loss: 0.8537 - usage_loss: 0.7783 - articleType_accuracy: 0.4800 - gender_accuracy: 0.6800 - baseColour_accuracy: 0.4150 - season_accuracy: 0.5950 - usage_accuracy: 0.7050 - val_loss: 5.1242 - val_articleType_loss: 1.3140 - val_gender_loss: 0.5825 - val_baseColour_loss: 1.7114 - val_season_loss: 0.8737 - val_usage_loss: 0.6427 - val_articleType_accuracy: 0.5587 - val_gender_accuracy: 0.7784 - val_baseColour_accuracy: 0.4525 - val_season_accuracy: 0.5791 - val_usage_accuracy: 0.7281\n",
      "Epoch 8/8\n",
      "100/100 [==============================] - 49s 493ms/step - loss: 5.4733 - articleType_loss: 1.3287 - gender_loss: 0.6580 - baseColour_loss: 1.7849 - season_loss: 0.8817 - usage_loss: 0.8199 - articleType_accuracy: 0.5800 - gender_accuracy: 0.7550 - baseColour_accuracy: 0.3550 - season_accuracy: 0.6250 - usage_accuracy: 0.6550 - val_loss: 5.0947 - val_articleType_loss: 1.3269 - val_gender_loss: 0.5400 - val_baseColour_loss: 1.6635 - val_season_loss: 0.8827 - val_usage_loss: 0.6816 - val_articleType_accuracy: 0.5773 - val_gender_accuracy: 0.7914 - val_baseColour_accuracy: 0.4655 - val_season_accuracy: 0.6406 - val_usage_accuracy: 0.7076\n",
      "269/269 [==============================] - 34s 127ms/step - loss: 5.1626 - articleType_loss: 1.3098 - gender_loss: 0.5858 - baseColour_loss: 1.6842 - season_loss: 0.9318 - usage_loss: 0.6510 - articleType_accuracy: 0.5624 - gender_accuracy: 0.7709 - baseColour_accuracy: 0.4525 - season_accuracy: 0.6052 - usage_accuracy: 0.7356\n"
     ]
    },
    {
     "name": "stderr",
     "output_type": "stream",
     "text": [
      "WARNING:absl:Found untraced functions such as _jit_compiled_convolution_op, _jit_compiled_convolution_op, _jit_compiled_convolution_op, _jit_compiled_convolution_op, _jit_compiled_convolution_op while saving (showing 5 of 104). These functions will not be directly callable after loading.\n"
     ]
    },
    {
     "name": "stdout",
     "output_type": "stream",
     "text": [
      "INFO:tensorflow:Assets written to: D:\\Project\\PAHIRAN\\Pahiran-wardobe-management-system\\model\\model_bottom\\assets\n"
     ]
    },
    {
     "name": "stderr",
     "output_type": "stream",
     "text": [
      "INFO:tensorflow:Assets written to: D:\\Project\\PAHIRAN\\Pahiran-wardobe-management-system\\model\\model_bottom\\assets\n"
     ]
    },
    {
     "name": "stdout",
     "output_type": "stream",
     "text": [
      "Epoch 1/9\n"
     ]
    },
    {
     "name": "stderr",
     "output_type": "stream",
     "text": [
      "d:\\users\\anaconda3\\envs\\tensorflow\\lib\\site-packages\\keras\\backend.py:5582: UserWarning: \"`sparse_categorical_crossentropy` received `from_logits=True`, but the `output` argument was produced by a Softmax activation and thus does not represent logits. Was this intended?\n",
      "  output, from_logits = _get_logits(\n"
     ]
    },
    {
     "name": "stdout",
     "output_type": "stream",
     "text": [
      "300/300 [==============================] - 177s 563ms/step - loss: 7.1103 - articleType_loss: 1.7497 - gender_loss: 0.9746 - baseColour_loss: 2.0688 - season_loss: 1.3843 - usage_loss: 0.9329 - articleType_accuracy: 0.4200 - gender_accuracy: 0.6617 - baseColour_accuracy: 0.4100 - season_accuracy: 0.3800 - usage_accuracy: 0.6900 - val_loss: 6.1484 - val_articleType_loss: 1.4017 - val_gender_loss: 0.9046 - val_baseColour_loss: 1.9827 - val_season_loss: 1.1969 - val_usage_loss: 0.6625 - val_articleType_accuracy: 0.5014 - val_gender_accuracy: 0.6357 - val_baseColour_accuracy: 0.4018 - val_season_accuracy: 0.4361 - val_usage_accuracy: 0.7847\n",
      "Epoch 2/9\n",
      "300/300 [==============================] - 164s 547ms/step - loss: 5.5149 - articleType_loss: 1.3283 - gender_loss: 0.6772 - baseColour_loss: 1.7491 - season_loss: 1.1563 - usage_loss: 0.6039 - articleType_accuracy: 0.5200 - gender_accuracy: 0.7567 - baseColour_accuracy: 0.4383 - season_accuracy: 0.4383 - usage_accuracy: 0.7650 - val_loss: 5.7551 - val_articleType_loss: 1.2230 - val_gender_loss: 0.8361 - val_baseColour_loss: 1.7810 - val_season_loss: 1.1464 - val_usage_loss: 0.7685 - val_articleType_accuracy: 0.5987 - val_gender_accuracy: 0.7586 - val_baseColour_accuracy: 0.4339 - val_season_accuracy: 0.4992 - val_usage_accuracy: 0.7923\n",
      "Epoch 3/9\n",
      "300/300 [==============================] - 161s 539ms/step - loss: 5.4093 - articleType_loss: 1.2408 - gender_loss: 0.7349 - baseColour_loss: 1.6231 - season_loss: 1.1725 - usage_loss: 0.6380 - articleType_accuracy: 0.5617 - gender_accuracy: 0.7533 - baseColour_accuracy: 0.5367 - season_accuracy: 0.4667 - usage_accuracy: 0.7833 - val_loss: 5.4572 - val_articleType_loss: 1.3042 - val_gender_loss: 0.7654 - val_baseColour_loss: 1.6297 - val_season_loss: 1.1362 - val_usage_loss: 0.6218 - val_articleType_accuracy: 0.5052 - val_gender_accuracy: 0.7705 - val_baseColour_accuracy: 0.5394 - val_season_accuracy: 0.4002 - val_usage_accuracy: 0.7281\n",
      "Epoch 4/9\n",
      "300/300 [==============================] - 160s 535ms/step - loss: 5.3217 - articleType_loss: 1.1619 - gender_loss: 0.6523 - baseColour_loss: 1.6772 - season_loss: 1.1596 - usage_loss: 0.6706 - articleType_accuracy: 0.5617 - gender_accuracy: 0.7550 - baseColour_accuracy: 0.4800 - season_accuracy: 0.4733 - usage_accuracy: 0.7667 - val_loss: 4.8747 - val_articleType_loss: 1.0089 - val_gender_loss: 0.7002 - val_baseColour_loss: 1.5783 - val_season_loss: 1.0827 - val_usage_loss: 0.5046 - val_articleType_accuracy: 0.6330 - val_gender_accuracy: 0.7684 - val_baseColour_accuracy: 0.5204 - val_season_accuracy: 0.5122 - val_usage_accuracy: 0.8064\n",
      "Epoch 5/9\n",
      "300/300 [==============================] - 158s 526ms/step - loss: 5.1241 - articleType_loss: 1.1599 - gender_loss: 0.6259 - baseColour_loss: 1.6486 - season_loss: 1.1182 - usage_loss: 0.5715 - articleType_accuracy: 0.5500 - gender_accuracy: 0.7900 - baseColour_accuracy: 0.5217 - season_accuracy: 0.5200 - usage_accuracy: 0.7667 - val_loss: 4.7075 - val_articleType_loss: 0.9233 - val_gender_loss: 0.5911 - val_baseColour_loss: 1.6493 - val_season_loss: 1.0780 - val_usage_loss: 0.4657 - val_articleType_accuracy: 0.6803 - val_gender_accuracy: 0.7983 - val_baseColour_accuracy: 0.4910 - val_season_accuracy: 0.5351 - val_usage_accuracy: 0.8390\n",
      "Epoch 6/9\n",
      "300/300 [==============================] - 157s 524ms/step - loss: 4.9583 - articleType_loss: 1.0440 - gender_loss: 0.6744 - baseColour_loss: 1.5889 - season_loss: 1.1015 - usage_loss: 0.5495 - articleType_accuracy: 0.6133 - gender_accuracy: 0.7833 - baseColour_accuracy: 0.5000 - season_accuracy: 0.5200 - usage_accuracy: 0.7967 - val_loss: 4.6031 - val_articleType_loss: 0.9681 - val_gender_loss: 0.6451 - val_baseColour_loss: 1.4865 - val_season_loss: 1.0685 - val_usage_loss: 0.4350 - val_articleType_accuracy: 0.6678 - val_gender_accuracy: 0.7814 - val_baseColour_accuracy: 0.5470 - val_season_accuracy: 0.5541 - val_usage_accuracy: 0.8211\n",
      "Epoch 7/9\n",
      "300/300 [==============================] - 154s 516ms/step - loss: 4.9602 - articleType_loss: 1.0981 - gender_loss: 0.6604 - baseColour_loss: 1.5338 - season_loss: 1.1381 - usage_loss: 0.5298 - articleType_accuracy: 0.6100 - gender_accuracy: 0.7817 - baseColour_accuracy: 0.5033 - season_accuracy: 0.4833 - usage_accuracy: 0.8100 - val_loss: 4.7243 - val_articleType_loss: 0.9600 - val_gender_loss: 0.5647 - val_baseColour_loss: 1.5465 - val_season_loss: 1.1450 - val_usage_loss: 0.5081 - val_articleType_accuracy: 0.6683 - val_gender_accuracy: 0.8298 - val_baseColour_accuracy: 0.5427 - val_season_accuracy: 0.5416 - val_usage_accuracy: 0.8363\n",
      "Epoch 8/9\n",
      "300/300 [==============================] - 162s 541ms/step - loss: 4.5639 - articleType_loss: 0.9600 - gender_loss: 0.5764 - baseColour_loss: 1.5001 - season_loss: 1.0527 - usage_loss: 0.4746 - articleType_accuracy: 0.6583 - gender_accuracy: 0.8283 - baseColour_accuracy: 0.5483 - season_accuracy: 0.5250 - usage_accuracy: 0.8017 - val_loss: 4.4967 - val_articleType_loss: 0.8820 - val_gender_loss: 0.5546 - val_baseColour_loss: 1.5287 - val_season_loss: 1.0375 - val_usage_loss: 0.4939 - val_articleType_accuracy: 0.6504 - val_gender_accuracy: 0.8178 - val_baseColour_accuracy: 0.5378 - val_season_accuracy: 0.5470 - val_usage_accuracy: 0.7934\n",
      "Epoch 9/9\n",
      "300/300 [==============================] - 160s 533ms/step - loss: 4.8773 - articleType_loss: 0.9380 - gender_loss: 0.6375 - baseColour_loss: 1.5615 - season_loss: 1.1184 - usage_loss: 0.6219 - articleType_accuracy: 0.6850 - gender_accuracy: 0.7867 - baseColour_accuracy: 0.5350 - season_accuracy: 0.5333 - usage_accuracy: 0.8267 - val_loss: 4.9155 - val_articleType_loss: 1.0913 - val_gender_loss: 0.6024 - val_baseColour_loss: 1.6455 - val_season_loss: 1.0528 - val_usage_loss: 0.5236 - val_articleType_accuracy: 0.6161 - val_gender_accuracy: 0.7906 - val_baseColour_accuracy: 0.4660 - val_season_accuracy: 0.5182 - val_usage_accuracy: 0.8119\n",
      "920/920 [==============================] - 121s 131ms/step - loss: 4.8489 - articleType_loss: 1.1026 - gender_loss: 0.6062 - baseColour_loss: 1.5952 - season_loss: 1.0144 - usage_loss: 0.5305 - articleType_accuracy: 0.6174 - gender_accuracy: 0.7940 - baseColour_accuracy: 0.5022 - season_accuracy: 0.5516 - usage_accuracy: 0.8201\n"
     ]
    },
    {
     "name": "stderr",
     "output_type": "stream",
     "text": [
      "WARNING:absl:Found untraced functions such as _jit_compiled_convolution_op, _jit_compiled_convolution_op, _jit_compiled_convolution_op, _jit_compiled_convolution_op, _jit_compiled_convolution_op while saving (showing 5 of 104). These functions will not be directly callable after loading.\n"
     ]
    },
    {
     "name": "stdout",
     "output_type": "stream",
     "text": [
      "INFO:tensorflow:Assets written to: D:\\Project\\PAHIRAN\\Pahiran-wardobe-management-system\\model\\model_foot\\assets\n"
     ]
    },
    {
     "name": "stderr",
     "output_type": "stream",
     "text": [
      "INFO:tensorflow:Assets written to: D:\\Project\\PAHIRAN\\Pahiran-wardobe-management-system\\model\\model_foot\\assets\n"
     ]
    }
   ],
   "source": [
    "\n",
    "foot_train, foot_val, foot_test = make_input_xx(make_input_array_2(foot_df))\n",
    "\n",
    "top_base_model.compile(optimizer='adam',\n",
    "              loss=tf.keras.losses.SparseCategoricalCrossentropy(from_logits=True),\n",
    "              metrics=['accuracy'])\n",
    "bottom_base_model.compile(optimizer='adam',\n",
    "              loss=tf.keras.losses.SparseCategoricalCrossentropy(from_logits=True),\n",
    "              metrics=['accuracy'])\n",
    "foot_base_model.compile(optimizer='adam',\n",
    "              loss=tf.keras.losses.SparseCategoricalCrossentropy(from_logits=True),\n",
    "              metrics=['accuracy'])\n",
    "\n",
    "top_history = top_base_model.fit(top_train, \n",
    "                    epochs=9, \n",
    "                    steps_per_epoch = 500,\n",
    "                    validation_data = top_val)\n",
    "\n",
    "top_base_model.evaluate(top_test)\n",
    "\n",
    "top_base_model.save(\"D:\\Project\\PAHIRAN\\Pahiran-wardobe-management-system\\model\\model_top\")\n",
    "\n",
    "\n",
    "\n",
    "bottom_history = bottom_base_model.fit(bottom_train, \n",
    "                    epochs=8, \n",
    "                    steps_per_epoch = 100,\n",
    "                    validation_data = bottom_val)\n",
    "\n",
    "bottom_base_model.evaluate(bottom_test)\n",
    "\n",
    "bottom_base_model.save(\"D:\\Project\\PAHIRAN\\Pahiran-wardobe-management-system\\model\\model_bottom\")\n",
    "\n",
    "\n",
    "\n",
    "foot_history = foot_base_model.fit(foot_train, \n",
    "                    epochs=9, \n",
    "                    steps_per_epoch = 300,\n",
    "                    validation_data = foot_val)\n",
    "\n",
    "foot_base_model.evaluate(foot_test)\n",
    "\n",
    "foot_base_model.save(\"D:\\Project\\PAHIRAN\\Pahiran-wardobe-management-system\\model\\model_foot\")\n"
   ]
  }
 ],
 "metadata": {
  "kernelspec": {
   "display_name": "environment",
   "language": "python",
   "name": "python3"
  },
  "language_info": {
   "codemirror_mode": {
    "name": "ipython",
    "version": 3
   },
   "file_extension": ".py",
   "mimetype": "text/x-python",
   "name": "python",
   "nbconvert_exporter": "python",
   "pygments_lexer": "ipython3",
   "version": "3.10.13"
  }
 },
 "nbformat": 4,
 "nbformat_minor": 2
}
